{
 "cells": [
  {
   "cell_type": "code",
   "execution_count": 70,
   "metadata": {},
   "outputs": [],
   "source": [
    "import requests, json\n",
    "from docx import Document\n",
    "from docx.shared import RGBColor"
   ]
  },
  {
   "cell_type": "code",
   "execution_count": 71,
   "metadata": {},
   "outputs": [],
   "source": [
    "def API_Response(API_key, Transcript_ID):\n",
    "\tapi_url='https://api.capio.ai/v1/speech/transcript/'+ Transcript_ID\n",
    "\theaders={'apikey':API_key}\n",
    "\tResponse=requests.get(api_url,headers=headers)\n",
    "\treturn Response"
   ]
  },
  {
   "cell_type": "code",
   "execution_count": 72,
   "metadata": {},
   "outputs": [],
   "source": [
    "def write_transcript_to_file(Resp):\n",
    "        transcript_doc = Document()\n",
    "        transcript_doc.add_heading('TRANSCRIPT')\n",
    "        for sentence in Resp:\n",
    "            \n",
    "            line = transcript_doc.add_paragraph() \n",
    "            t=sentence['result'][0]['alternative'][0]['words'][0]['from']\n",
    "            time_stamp = '{0:02.0f}:{1:02.0f}'.format(*divmod(t * 60, 60))\n",
    "            line.add_run(' ['+ time_stamp +'] : ')\n",
    "            for word in sentence['result'][0]['alternative'][0]['words']:\n",
    "                w_add = line.add_run(word['word'] + ' ')\n",
    "                if word['confidence'] < 0.75:\n",
    "                    font=w_add.font\n",
    "                    font.color.rgb = RGBColor(0xFF, 0x00, 0x00)\n",
    "        transcript_doc.save('transcript.docx')\n",
    "        return True\n"
   ]
  },
  {
   "cell_type": "code",
   "execution_count": 74,
   "metadata": {},
   "outputs": [
    {
     "name": "stdout",
     "output_type": "stream",
     "text": [
      "<Response [200]>\n"
     ]
    }
   ],
   "source": [
    "resp=API_Response('262ac9a0c9ba4d179aad4c0b9b02120a', '593f237fbcae700012ba8fcd')\n",
    "print(resp)\n",
    "if resp.status_code==200:\n",
    "    resp=resp.json()\n",
    "    write_transcript_to_file(resp)\n"
   ]
  },
  {
   "cell_type": "code",
   "execution_count": null,
   "metadata": {},
   "outputs": [],
   "source": []
  }
 ],
 "metadata": {
  "kernelspec": {
   "display_name": "Python 3",
   "language": "python",
   "name": "python3"
  },
  "language_info": {
   "codemirror_mode": {
    "name": "ipython",
    "version": 3
   },
   "file_extension": ".py",
   "mimetype": "text/x-python",
   "name": "python",
   "nbconvert_exporter": "python",
   "pygments_lexer": "ipython3",
   "version": "3.5.2"
  }
 },
 "nbformat": 4,
 "nbformat_minor": 2
}
